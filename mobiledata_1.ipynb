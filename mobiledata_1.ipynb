{
 "cells": [
  {
   "cell_type": "code",
   "execution_count": 2,
   "id": "46229af7",
   "metadata": {},
   "outputs": [],
   "source": [
    "import pandas as pd\n",
    "from sklearn.impute import SimpleImputer\n",
    "from sklearn.model_selection import train_test_split\n",
    "from sklearn.preprocessing import MinMaxScaler\n",
    "from sklearn.linear_model import LogisticRegression\n",
    "from sklearn.tree import DecisionTreeClassifier\n",
    "from sklearn.ensemble import RandomForestClassifier\n",
    "from sklearn.model_selection import GridSearchCV"
   ]
  },
  {
   "cell_type": "code",
   "execution_count": 12,
   "id": "8ca1e275",
   "metadata": {},
   "outputs": [
    {
     "data": {
      "text/html": [
       "<div>\n",
       "<style scoped>\n",
       "    .dataframe tbody tr th:only-of-type {\n",
       "        vertical-align: middle;\n",
       "    }\n",
       "\n",
       "    .dataframe tbody tr th {\n",
       "        vertical-align: top;\n",
       "    }\n",
       "\n",
       "    .dataframe thead th {\n",
       "        text-align: right;\n",
       "    }\n",
       "</style>\n",
       "<table border=\"1\" class=\"dataframe\">\n",
       "  <thead>\n",
       "    <tr style=\"text-align: right;\">\n",
       "      <th></th>\n",
       "      <th>battery_power</th>\n",
       "      <th>blue</th>\n",
       "      <th>clock_speed</th>\n",
       "      <th>dual_sim</th>\n",
       "      <th>fc</th>\n",
       "      <th>four_g</th>\n",
       "      <th>int_memory</th>\n",
       "      <th>m_dep</th>\n",
       "      <th>mobile_wt</th>\n",
       "      <th>n_cores</th>\n",
       "      <th>...</th>\n",
       "      <th>px_height</th>\n",
       "      <th>px_width</th>\n",
       "      <th>ram</th>\n",
       "      <th>sc_h</th>\n",
       "      <th>sc_w</th>\n",
       "      <th>talk_time</th>\n",
       "      <th>three_g</th>\n",
       "      <th>touch_screen</th>\n",
       "      <th>wifi</th>\n",
       "      <th>price_range</th>\n",
       "    </tr>\n",
       "  </thead>\n",
       "  <tbody>\n",
       "    <tr>\n",
       "      <th>0</th>\n",
       "      <td>1412</td>\n",
       "      <td>0.0</td>\n",
       "      <td>0.6</td>\n",
       "      <td>0.0</td>\n",
       "      <td>9.0</td>\n",
       "      <td>0</td>\n",
       "      <td>57.0</td>\n",
       "      <td>0.2</td>\n",
       "      <td>86.0</td>\n",
       "      <td>3.0</td>\n",
       "      <td>...</td>\n",
       "      <td>2.0</td>\n",
       "      <td>660.0</td>\n",
       "      <td>1853</td>\n",
       "      <td>15</td>\n",
       "      <td>10</td>\n",
       "      <td>18</td>\n",
       "      <td>0</td>\n",
       "      <td>0</td>\n",
       "      <td>1</td>\n",
       "      <td>1</td>\n",
       "    </tr>\n",
       "    <tr>\n",
       "      <th>1</th>\n",
       "      <td>644</td>\n",
       "      <td>1.0</td>\n",
       "      <td>2.7</td>\n",
       "      <td>0.0</td>\n",
       "      <td>0.0</td>\n",
       "      <td>0</td>\n",
       "      <td>22.0</td>\n",
       "      <td>0.7</td>\n",
       "      <td>157.0</td>\n",
       "      <td>8.0</td>\n",
       "      <td>...</td>\n",
       "      <td>311.0</td>\n",
       "      <td>881.0</td>\n",
       "      <td>1262</td>\n",
       "      <td>12</td>\n",
       "      <td>1</td>\n",
       "      <td>15</td>\n",
       "      <td>1</td>\n",
       "      <td>0</td>\n",
       "      <td>0</td>\n",
       "      <td>0</td>\n",
       "    </tr>\n",
       "    <tr>\n",
       "      <th>2</th>\n",
       "      <td>507</td>\n",
       "      <td>1.0</td>\n",
       "      <td>0.5</td>\n",
       "      <td>1.0</td>\n",
       "      <td>1.0</td>\n",
       "      <td>0</td>\n",
       "      <td>32.0</td>\n",
       "      <td>0.5</td>\n",
       "      <td>141.0</td>\n",
       "      <td>7.0</td>\n",
       "      <td>...</td>\n",
       "      <td>936.0</td>\n",
       "      <td>1398.0</td>\n",
       "      <td>1702</td>\n",
       "      <td>17</td>\n",
       "      <td>0</td>\n",
       "      <td>5</td>\n",
       "      <td>1</td>\n",
       "      <td>1</td>\n",
       "      <td>1</td>\n",
       "      <td>1</td>\n",
       "    </tr>\n",
       "    <tr>\n",
       "      <th>3</th>\n",
       "      <td>1266</td>\n",
       "      <td>0.0</td>\n",
       "      <td>1.9</td>\n",
       "      <td>1.0</td>\n",
       "      <td>0.0</td>\n",
       "      <td>1</td>\n",
       "      <td>7.0</td>\n",
       "      <td>0.2</td>\n",
       "      <td>184.0</td>\n",
       "      <td>3.0</td>\n",
       "      <td>...</td>\n",
       "      <td>346.0</td>\n",
       "      <td>1468.0</td>\n",
       "      <td>2532</td>\n",
       "      <td>10</td>\n",
       "      <td>5</td>\n",
       "      <td>4</td>\n",
       "      <td>1</td>\n",
       "      <td>1</td>\n",
       "      <td>1</td>\n",
       "      <td>2</td>\n",
       "    </tr>\n",
       "    <tr>\n",
       "      <th>4</th>\n",
       "      <td>1807</td>\n",
       "      <td>1.0</td>\n",
       "      <td>2.1</td>\n",
       "      <td>0.0</td>\n",
       "      <td>2.0</td>\n",
       "      <td>0</td>\n",
       "      <td>49.0</td>\n",
       "      <td>0.8</td>\n",
       "      <td>125.0</td>\n",
       "      <td>1.0</td>\n",
       "      <td>...</td>\n",
       "      <td>337.0</td>\n",
       "      <td>1384.0</td>\n",
       "      <td>1906</td>\n",
       "      <td>17</td>\n",
       "      <td>13</td>\n",
       "      <td>13</td>\n",
       "      <td>0</td>\n",
       "      <td>1</td>\n",
       "      <td>1</td>\n",
       "      <td>2</td>\n",
       "    </tr>\n",
       "  </tbody>\n",
       "</table>\n",
       "<p>5 rows × 21 columns</p>\n",
       "</div>"
      ],
      "text/plain": [
       "   battery_power  blue  clock_speed  dual_sim   fc  four_g  int_memory  m_dep  \\\n",
       "0           1412   0.0          0.6       0.0  9.0       0        57.0    0.2   \n",
       "1            644   1.0          2.7       0.0  0.0       0        22.0    0.7   \n",
       "2            507   1.0          0.5       1.0  1.0       0        32.0    0.5   \n",
       "3           1266   0.0          1.9       1.0  0.0       1         7.0    0.2   \n",
       "4           1807   1.0          2.1       0.0  2.0       0        49.0    0.8   \n",
       "\n",
       "   mobile_wt  n_cores  ...  px_height  px_width   ram  sc_h  sc_w  talk_time  \\\n",
       "0       86.0      3.0  ...        2.0     660.0  1853    15    10         18   \n",
       "1      157.0      8.0  ...      311.0     881.0  1262    12     1         15   \n",
       "2      141.0      7.0  ...      936.0    1398.0  1702    17     0          5   \n",
       "3      184.0      3.0  ...      346.0    1468.0  2532    10     5          4   \n",
       "4      125.0      1.0  ...      337.0    1384.0  1906    17    13         13   \n",
       "\n",
       "   three_g  touch_screen  wifi  price_range  \n",
       "0        0             0     1            1  \n",
       "1        1             0     0            0  \n",
       "2        1             1     1            1  \n",
       "3        1             1     1            2  \n",
       "4        0             1     1            2  \n",
       "\n",
       "[5 rows x 21 columns]"
      ]
     },
     "execution_count": 12,
     "metadata": {},
     "output_type": "execute_result"
    }
   ],
   "source": [
    "df_train = pd.read_csv(\"Downloads//mobile_train.csv\")\n",
    "df_test = pd.read_csv(\"Downloads//mobile_test.csv\")\n",
    "df_train.head()"
   ]
  },
  {
   "cell_type": "code",
   "execution_count": 11,
   "id": "f0edbfb6",
   "metadata": {},
   "outputs": [
    {
     "data": {
      "text/plain": [
       "battery_power    0\n",
       "blue             1\n",
       "clock_speed      0\n",
       "dual_sim         1\n",
       "fc               1\n",
       "four_g           0\n",
       "int_memory       6\n",
       "m_dep            1\n",
       "mobile_wt        3\n",
       "n_cores          1\n",
       "pc               3\n",
       "px_height        8\n",
       "px_width         5\n",
       "ram              0\n",
       "sc_h             0\n",
       "sc_w             0\n",
       "talk_time        0\n",
       "three_g          0\n",
       "touch_screen     0\n",
       "wifi             0\n",
       "price_range      0\n",
       "dtype: int64"
      ]
     },
     "execution_count": 11,
     "metadata": {},
     "output_type": "execute_result"
    }
   ],
   "source": [
    "df_train.isna().sum()"
   ]
  },
  {
   "cell_type": "code",
   "execution_count": 157,
   "id": "5550f0b3",
   "metadata": {},
   "outputs": [
    {
     "data": {
      "text/plain": [
       "Index(['battery_power', 'blue', 'clock_speed', 'dual_sim', 'fc', 'four_g',\n",
       "       'int_memory', 'm_dep', 'mobile_wt', 'n_cores', 'pc', 'px_height',\n",
       "       'px_width', 'ram', 'sc_h', 'sc_w', 'talk_time', 'three_g',\n",
       "       'touch_screen', 'wifi', 'price_range'],\n",
       "      dtype='object')"
      ]
     },
     "execution_count": 157,
     "metadata": {},
     "output_type": "execute_result"
    }
   ],
   "source": [
    "df_train.columns"
   ]
  },
  {
   "cell_type": "code",
   "execution_count": 158,
   "id": "cadc83e1",
   "metadata": {},
   "outputs": [],
   "source": [
    "cols_num = ['battery_power', 'clock_speed', 'int_memory', 'm_dep', 'mobile_wt', 'n_cores', 'px_height', 'px_width', 'ram', 'sc_h', 'sc_w', 'talk_time']\n",
    "\n",
    "cols_cat = ['blue', 'dual_sim', 'fc', 'four_g', 'pc','three_g', 'touch_screen', 'wifi']"
   ]
  },
  {
   "cell_type": "markdown",
   "id": "acd528f6",
   "metadata": {},
   "source": [
    "# Imputation"
   ]
  },
  {
   "cell_type": "code",
   "execution_count": 159,
   "id": "8542fb0c",
   "metadata": {},
   "outputs": [],
   "source": [
    "# Train Data Imputation"
   ]
  },
  {
   "cell_type": "code",
   "execution_count": 160,
   "id": "0bfcc61c",
   "metadata": {},
   "outputs": [],
   "source": [
    "cols_num_mean = ['clock_speed', 'm_dep']"
   ]
  },
  {
   "cell_type": "code",
   "execution_count": 161,
   "id": "655a4518",
   "metadata": {},
   "outputs": [],
   "source": [
    "cols_num_median = ['battery_power', 'int_memory', 'mobile_wt', 'n_cores', 'px_height', 'px_width', 'ram', 'sc_h', 'sc_w', 'talk_time']"
   ]
  },
  {
   "cell_type": "code",
   "execution_count": 162,
   "id": "8b889cb5",
   "metadata": {},
   "outputs": [],
   "source": [
    "num_mean_sImputer = SimpleImputer(strategy='mean')\n",
    "num_mean_sImputer.fit(df_train[cols_num_mean])\n",
    "df_train[cols_num_mean] = num_mean_sImputer.transform(df_train[cols_num_mean])\n",
    "df_test[cols_num_mean] = num_mean_sImputer.transform(df_test[cols_num_mean])"
   ]
  },
  {
   "cell_type": "code",
   "execution_count": 163,
   "id": "db0898e9",
   "metadata": {},
   "outputs": [],
   "source": [
    "num_median_sImputer = SimpleImputer(strategy='median')\n",
    "num_median_sImputer.fit(df_train[cols_num_median])\n",
    "df_train[cols_num_median] = num_median_sImputer.transform(df_train[cols_num_median])\n",
    "df_test[cols_num_median] = num_median_sImputer.transform(df_test[cols_num_median])"
   ]
  },
  {
   "cell_type": "code",
   "execution_count": 164,
   "id": "cdbeb8e2",
   "metadata": {},
   "outputs": [],
   "source": [
    "cat_sImputer = SimpleImputer(strategy='most_frequent')\n",
    "cat_sImputer.fit(df_train[cols_cat])\n",
    "df_train[cols_cat] = cat_sImputer.transform(df_train[cols_cat])\n",
    "df_test[cols_cat] = cat_sImputer.transform(df_test[cols_cat])"
   ]
  },
  {
   "cell_type": "code",
   "execution_count": 165,
   "id": "8e94fc4f",
   "metadata": {},
   "outputs": [
    {
     "data": {
      "text/plain": [
       "battery_power    0\n",
       "blue             0\n",
       "clock_speed      0\n",
       "dual_sim         0\n",
       "fc               0\n",
       "four_g           0\n",
       "int_memory       0\n",
       "m_dep            0\n",
       "mobile_wt        0\n",
       "n_cores          0\n",
       "pc               0\n",
       "px_height        0\n",
       "px_width         0\n",
       "ram              0\n",
       "sc_h             0\n",
       "sc_w             0\n",
       "talk_time        0\n",
       "three_g          0\n",
       "touch_screen     0\n",
       "wifi             0\n",
       "price_range      0\n",
       "dtype: int64"
      ]
     },
     "execution_count": 165,
     "metadata": {},
     "output_type": "execute_result"
    }
   ],
   "source": [
    "df_train.isna().sum()"
   ]
  },
  {
   "cell_type": "code",
   "execution_count": 166,
   "id": "2248a12f",
   "metadata": {},
   "outputs": [
    {
     "data": {
      "text/plain": [
       "battery_power    0\n",
       "blue             0\n",
       "clock_speed      0\n",
       "dual_sim         0\n",
       "fc               0\n",
       "four_g           0\n",
       "int_memory       0\n",
       "m_dep            0\n",
       "mobile_wt        0\n",
       "n_cores          0\n",
       "pc               0\n",
       "px_height        0\n",
       "px_width         0\n",
       "ram              0\n",
       "sc_h             0\n",
       "sc_w             0\n",
       "talk_time        0\n",
       "three_g          0\n",
       "touch_screen     0\n",
       "wifi             0\n",
       "Id               0\n",
       "dtype: int64"
      ]
     },
     "execution_count": 166,
     "metadata": {},
     "output_type": "execute_result"
    }
   ],
   "source": [
    "df_test.isna().sum()"
   ]
  },
  {
   "cell_type": "markdown",
   "id": "97fe2b42",
   "metadata": {},
   "source": [
    "# Scaling"
   ]
  },
  {
   "cell_type": "code",
   "execution_count": 167,
   "id": "48270a18",
   "metadata": {},
   "outputs": [],
   "source": [
    "scaler = MinMaxScaler()\n",
    "scaler.fit(df_train[cols_num])\n",
    "df_train[cols_num] = scaler.transform(df_train[cols_num])\n",
    "\n",
    "df_test[cols_num] = scaler.transform(df_test[cols_num])"
   ]
  },
  {
   "cell_type": "markdown",
   "id": "8858c186",
   "metadata": {},
   "source": [
    "# Modelling"
   ]
  },
  {
   "cell_type": "code",
   "execution_count": 168,
   "id": "4f522450",
   "metadata": {},
   "outputs": [],
   "source": [
    "cols_final = cols_num + cols_cat"
   ]
  },
  {
   "cell_type": "code",
   "execution_count": 169,
   "id": "f45cbe70",
   "metadata": {},
   "outputs": [
    {
     "name": "stderr",
     "output_type": "stream",
     "text": [
      "C:\\Users\\mayur\\anaconda3\\lib\\site-packages\\sklearn\\linear_model\\_logistic.py:814: ConvergenceWarning: lbfgs failed to converge (status=1):\n",
      "STOP: TOTAL NO. of ITERATIONS REACHED LIMIT.\n",
      "\n",
      "Increase the number of iterations (max_iter) or scale the data as shown in:\n",
      "    https://scikit-learn.org/stable/modules/preprocessing.html\n",
      "Please also refer to the documentation for alternative solver options:\n",
      "    https://scikit-learn.org/stable/modules/linear_model.html#logistic-regression\n",
      "  n_iter_i = _check_optimize_result(\n"
     ]
    },
    {
     "data": {
      "text/plain": [
       "LogisticRegression(random_state=100)"
      ]
     },
     "execution_count": 169,
     "metadata": {},
     "output_type": "execute_result"
    }
   ],
   "source": [
    "model = LogisticRegression(random_state=100)\n",
    "model.fit(df_train[cols_final], df_train['price_range'])"
   ]
  },
  {
   "cell_type": "code",
   "execution_count": 170,
   "id": "30538518",
   "metadata": {},
   "outputs": [
    {
     "data": {
      "text/plain": [
       "0.894375"
      ]
     },
     "execution_count": 170,
     "metadata": {},
     "output_type": "execute_result"
    }
   ],
   "source": [
    "model.score(df_train[cols_final], df_train['price_range'])"
   ]
  },
  {
   "cell_type": "code",
   "execution_count": 171,
   "id": "1c28cb5a",
   "metadata": {},
   "outputs": [
    {
     "data": {
      "text/plain": [
       "array([1, 2, 2, 0, 3, 3, 3, 3, 1, 1, 1, 3, 3, 0, 1, 1, 3, 2, 3, 0, 3, 1,\n",
       "       2, 3, 3, 3, 3, 3, 3, 1, 3, 2, 1, 2, 1, 1, 0, 0, 2, 0, 3, 3, 1, 0,\n",
       "       0, 0, 2, 2, 0, 1, 3, 1, 3, 3, 1, 1, 0, 2, 0, 1, 1, 1, 3, 3, 1, 3,\n",
       "       0, 1, 0, 0, 1, 1, 2, 0, 2, 2, 3, 1, 2, 2, 3, 1, 2, 0, 3, 0, 2, 3,\n",
       "       0, 1, 2, 2, 2, 2, 0, 1, 0, 1, 0, 3, 3, 1, 3, 1, 3, 1, 0, 3, 2, 1,\n",
       "       2, 2, 3, 3, 2, 2, 0, 3, 2, 2, 0, 1, 2, 3, 1, 2, 0, 1, 1, 1, 2, 3,\n",
       "       0, 0, 0, 0, 1, 3, 2, 3, 2, 2, 0, 0, 3, 2, 0, 3, 3, 1, 3, 2, 3, 3,\n",
       "       2, 1, 3, 1, 3, 3, 0, 2, 1, 0, 2, 1, 2, 1, 2, 2, 2, 3, 2, 0, 2, 3,\n",
       "       1, 0, 2, 3, 0, 2, 2, 3, 1, 1, 2, 2, 3, 2, 3, 0, 0, 3, 2, 3, 2, 0,\n",
       "       1, 1, 1, 0, 1, 3, 2, 2, 3, 2, 0, 3, 3, 2, 2, 2, 3, 3, 1, 1, 3, 3,\n",
       "       3, 2, 3, 1, 2, 3, 0, 1, 2, 0, 1, 2, 3, 1, 1, 0, 2, 0, 3, 0, 2, 0,\n",
       "       0, 1, 3, 0, 0, 0, 1, 0, 1, 1, 0, 0, 0, 2, 1, 0, 3, 0, 2, 0, 0, 3,\n",
       "       1, 0, 3, 3, 3, 3, 0, 3, 1, 2, 2, 1, 0, 0, 1, 3, 3, 0, 2, 3, 0, 0,\n",
       "       1, 2, 2, 2, 2, 3, 3, 0, 3, 3, 2, 2, 1, 2, 2, 0, 1, 0, 0, 3, 1, 0,\n",
       "       2, 0, 1, 1, 1, 2, 2, 1, 3, 0, 1, 2, 1, 1, 0, 1, 2, 0, 2, 1, 0, 0,\n",
       "       1, 2, 3, 3, 2, 3, 0, 0, 0, 2, 2, 2, 1, 0, 2, 1, 3, 0, 2, 3, 3, 0,\n",
       "       1, 1, 2, 2, 3, 0, 1, 1, 1, 3, 3, 2, 2, 3, 3, 0, 2, 0, 1, 3, 0, 2,\n",
       "       2, 0, 0, 1, 0, 3, 1, 3, 3, 0, 1, 2, 0, 2, 0, 1, 2, 2, 2, 0, 0, 0,\n",
       "       3, 2, 3, 3], dtype=int64)"
      ]
     },
     "execution_count": 171,
     "metadata": {},
     "output_type": "execute_result"
    }
   ],
   "source": [
    "yp = model.predict(df_test[cols_final])\n",
    "yp"
   ]
  },
  {
   "cell_type": "code",
   "execution_count": 172,
   "id": "73c0a2f1",
   "metadata": {},
   "outputs": [],
   "source": [
    "final_submission = pd.DataFrame({'Id':df_test['Id'],'price_range':yp})"
   ]
  },
  {
   "cell_type": "code",
   "execution_count": 173,
   "id": "3575d268",
   "metadata": {},
   "outputs": [],
   "source": [
    "final_submission.to_csv('submission1.csv',index=False)"
   ]
  },
  {
   "cell_type": "code",
   "execution_count": 174,
   "id": "cfc074da",
   "metadata": {},
   "outputs": [],
   "source": [
    "# dict_score = {}\n",
    "# for i in range(1,1000):\n",
    "#     mLogReg_Final = LogisticRegression(random_state=i)\n",
    "#     mLogReg_Final.fit(df_train[cols_final], df_train['Survived'])\n",
    "#     yp = mLogReg_Final.predict(df_test[cols_final])\n",
    "#     dict_score.update({i:mLogReg_Final.score(df_test[cols_final], yp)})\n",
    "    \n",
    "# print(list(dict_score.keys())[list(dict_score.values()).index(max(dict_score.values()))],max(dict_score.values()))"
   ]
  },
  {
   "cell_type": "markdown",
   "id": "dad99f81",
   "metadata": {},
   "source": [
    "# Decision Tree"
   ]
  },
  {
   "cell_type": "code",
   "execution_count": null,
   "id": "e5763d55",
   "metadata": {},
   "outputs": [],
   "source": []
  },
  {
   "cell_type": "code",
   "execution_count": null,
   "id": "6b8f7106",
   "metadata": {},
   "outputs": [],
   "source": [
    "mDT_Final.score(df_train[cols_final], df_train['Survived'])"
   ]
  },
  {
   "cell_type": "code",
   "execution_count": null,
   "id": "fcf33be2",
   "metadata": {},
   "outputs": [],
   "source": [
    "yp = mDT_Final.predict(df_test[cols_final])"
   ]
  },
  {
   "cell_type": "code",
   "execution_count": null,
   "id": "f7d6e12a",
   "metadata": {},
   "outputs": [],
   "source": [
    "final_submission = pd.DataFrame({'PassengerId':df_test['PassengerId'],'Survived':yp})"
   ]
  },
  {
   "cell_type": "code",
   "execution_count": null,
   "id": "2f9d60fd",
   "metadata": {},
   "outputs": [],
   "source": [
    "final_submission.to_csv('gender_submission_DT_full_encoded.csv',index=False)"
   ]
  },
  {
   "cell_type": "markdown",
   "id": "a5387ea3",
   "metadata": {},
   "source": [
    "# Random Forest"
   ]
  },
  {
   "cell_type": "code",
   "execution_count": 53,
   "id": "52a76f79",
   "metadata": {},
   "outputs": [],
   "source": [
    "from sklearn.model_selection import  GridSearchCV"
   ]
  },
  {
   "cell_type": "code",
   "execution_count": 91,
   "id": "8b270c98",
   "metadata": {},
   "outputs": [],
   "source": [
    "params = {'max_depth':[1,2,3,4,5],\n",
    "          'min_samples_leaf':[1,2,3,4,5,6],\n",
    "          'min_samples_split':[3,4,5,6,7,8,9],\n",
    "         'n_estimators':[50,100,150,200]}"
   ]
  },
  {
   "cell_type": "code",
   "execution_count": 92,
   "id": "626245fa",
   "metadata": {},
   "outputs": [
    {
     "data": {
      "text/plain": [
       "GridSearchCV(cv=4, estimator=RandomForestClassifier(random_state=100), n_jobs=4,\n",
       "             param_grid={'max_depth': [1, 2, 3, 4, 5],\n",
       "                         'min_samples_leaf': [1, 2, 3, 4, 5, 6],\n",
       "                         'min_samples_split': [3, 4, 5, 6, 7, 8, 9],\n",
       "                         'n_estimators': [50, 100, 150, 200]})"
      ]
     },
     "execution_count": 92,
     "metadata": {},
     "output_type": "execute_result"
    }
   ],
   "source": [
    "grid_cv = GridSearchCV(RandomForestClassifier(random_state=100),\n",
    "                        param_grid=params, cv=4,n_jobs=4)\n",
    "grid_cv.fit(df_train[cols_final],df_train['price_range'])"
   ]
  },
  {
   "cell_type": "code",
   "execution_count": 93,
   "id": "55879c7c",
   "metadata": {},
   "outputs": [
    {
     "data": {
      "text/plain": [
       "{'max_depth': 5,\n",
       " 'min_samples_leaf': 2,\n",
       " 'min_samples_split': 9,\n",
       " 'n_estimators': 200}"
      ]
     },
     "execution_count": 93,
     "metadata": {},
     "output_type": "execute_result"
    }
   ],
   "source": [
    "grid_cv.best_params_"
   ]
  },
  {
   "cell_type": "code",
   "execution_count": 94,
   "id": "2b2a0a42",
   "metadata": {},
   "outputs": [
    {
     "data": {
      "text/plain": [
       "RandomForestClassifier(max_depth=5, min_samples_leaf=2, min_samples_split=9,\n",
       "                       n_estimators=200, random_state=100)"
      ]
     },
     "execution_count": 94,
     "metadata": {},
     "output_type": "execute_result"
    }
   ],
   "source": [
    "grid_cv.best_estimator_"
   ]
  },
  {
   "cell_type": "code",
   "execution_count": 95,
   "id": "fb3f9fc8",
   "metadata": {},
   "outputs": [],
   "source": [
    "finalmodel = RandomForestClassifier(max_depth=5, min_samples_leaf=2, min_samples_split=9,\n",
    "                       n_estimators=200, random_state=100)"
   ]
  },
  {
   "cell_type": "code",
   "execution_count": 96,
   "id": "a5e6754c",
   "metadata": {},
   "outputs": [
    {
     "data": {
      "text/plain": [
       "RandomForestClassifier(max_depth=5, min_samples_leaf=2, min_samples_split=9,\n",
       "                       n_estimators=200, random_state=100)"
      ]
     },
     "execution_count": 96,
     "metadata": {},
     "output_type": "execute_result"
    }
   ],
   "source": [
    "finalmodel.fit(df_train[cols_final],df_train['price_range'])"
   ]
  },
  {
   "cell_type": "code",
   "execution_count": 97,
   "id": "6135a2d1",
   "metadata": {},
   "outputs": [
    {
     "data": {
      "text/plain": [
       "0.905"
      ]
     },
     "execution_count": 97,
     "metadata": {},
     "output_type": "execute_result"
    }
   ],
   "source": [
    "finalmodel.score(df_train[cols_final],df_train['price_range'])"
   ]
  },
  {
   "cell_type": "code",
   "execution_count": 98,
   "id": "c96b3d66",
   "metadata": {},
   "outputs": [],
   "source": [
    "yp = finalmodel.predict(df_test[cols_final])"
   ]
  },
  {
   "cell_type": "code",
   "execution_count": 99,
   "id": "f3274beb",
   "metadata": {},
   "outputs": [],
   "source": [
    "finalsubmission = pd.DataFrame({'Id':df_test['Id'],'price_range':yp})"
   ]
  },
  {
   "cell_type": "code",
   "execution_count": 101,
   "id": "03cbf308",
   "metadata": {},
   "outputs": [],
   "source": [
    "finalsubmission.to_csv('submissionRF1.csv',index=False)"
   ]
  },
  {
   "cell_type": "code",
   "execution_count": null,
   "id": "7d903d90",
   "metadata": {},
   "outputs": [],
   "source": []
  }
 ],
 "metadata": {
  "kernelspec": {
   "display_name": "Python 3 (ipykernel)",
   "language": "python",
   "name": "python3"
  },
  "language_info": {
   "codemirror_mode": {
    "name": "ipython",
    "version": 3
   },
   "file_extension": ".py",
   "mimetype": "text/x-python",
   "name": "python",
   "nbconvert_exporter": "python",
   "pygments_lexer": "ipython3",
   "version": "3.9.12"
  }
 },
 "nbformat": 4,
 "nbformat_minor": 5
}
